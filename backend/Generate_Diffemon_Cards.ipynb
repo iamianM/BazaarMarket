{
 "cells": [
  {
   "cell_type": "code",
   "execution_count": 7,
   "id": "30c0b84e",
   "metadata": {},
   "outputs": [],
   "source": [
    "import os, json\n",
    "import openai\n",
    "import wandb\n",
    "\n",
    "keys = json.load(\".KEYS.json\")\n",
    "openai.api_key = keys['OPENAI']"
   ]
  },
  {
   "cell_type": "code",
   "execution_count": 343,
   "id": "c1f9a4d8",
   "metadata": {},
   "outputs": [],
   "source": [
    "names = ['Corgichu']"
   ]
  },
  {
   "cell_type": "code",
   "execution_count": null,
   "id": "a6759763",
   "metadata": {
    "scrolled": true
   },
   "outputs": [],
   "source": [
    "gpt_prompt = \"One nonsense word as a name of a creature\"\n",
    "\n",
    "while len(names) < 106:\n",
    "    response = openai.Completion.create(\n",
    "      engine=\"text-davinci-002\",\n",
    "      prompt=gpt_prompt,\n",
    "      temperature=1,\n",
    "      max_tokens=256,\n",
    "      top_p=1.0,\n",
    "      frequency_penalty=0.0,\n",
    "      presence_penalty=0.0\n",
    "    )['choices'][0]['text'].strip()\n",
    "    if response in names:\n",
    "        print(\"duplicate\", response)\n",
    "        i -= 1\n",
    "    else:\n",
    "        good_response = input(response)\n",
    "        if good_response != 'd':\n",
    "            if len(good_response) == 0:\n",
    "                names.append(response)\n",
    "            else:\n",
    "                names.append(good_response)"
   ]
  },
  {
   "cell_type": "code",
   "execution_count": null,
   "id": "abfec10e",
   "metadata": {
    "scrolled": true
   },
   "outputs": [],
   "source": [
    "removes = []\n",
    "for idx, name in enumerate(names):\n",
    "    new_name = input(name)\n",
    "    if len(new_name) > 0:\n",
    "        if new_name == 'd':\n",
    "            removes.append(idx)\n",
    "        else:\n",
    "            names[idx] = new_name"
   ]
  },
  {
   "cell_type": "code",
   "execution_count": 381,
   "id": "6fdc5ebc",
   "metadata": {},
   "outputs": [],
   "source": [
    "names = [n.replace('\\n', '').replace(':', '').replace('.', '') for i, n in enumerate(names)]"
   ]
  },
  {
   "cell_type": "code",
   "execution_count": 388,
   "id": "7a54a13d",
   "metadata": {},
   "outputs": [],
   "source": [
    "names = list(set(names))"
   ]
  },
  {
   "cell_type": "code",
   "execution_count": 389,
   "id": "d6a6d33a",
   "metadata": {},
   "outputs": [
    {
     "data": {
      "text/plain": [
       "106"
      ]
     },
     "execution_count": 389,
     "metadata": {},
     "output_type": "execute_result"
    }
   ],
   "source": [
    "len(names)"
   ]
  },
  {
   "cell_type": "code",
   "execution_count": null,
   "id": "2b722907",
   "metadata": {},
   "outputs": [],
   "source": []
  },
  {
   "cell_type": "code",
   "execution_count": null,
   "id": "a587ffca",
   "metadata": {},
   "outputs": [],
   "source": [
    "personalities = []"
   ]
  },
  {
   "cell_type": "code",
   "execution_count": null,
   "id": "ce9808f6",
   "metadata": {
    "scrolled": true
   },
   "outputs": [],
   "source": [
    "gpt_prompt = \"Describe the personality of a creature as if it was an rpg character\"\n",
    "\n",
    "while len(personalities) < 106:\n",
    "    response = openai.Completion.create(\n",
    "      engine=\"text-davinci-002\",\n",
    "      prompt=gpt_prompt,\n",
    "      temperature=1,\n",
    "      max_tokens=256,\n",
    "      top_p=1.0,\n",
    "      frequency_penalty=0.0,\n",
    "      presence_penalty=0.0\n",
    "    )['choices'][0]['text'].strip()\n",
    "    \n",
    "    if response in personalities:\n",
    "        print(\"duplicate\", response)\n",
    "        i -= 1\n",
    "    else:\n",
    "        good_response = input(response)\n",
    "        if good_response != 'd':\n",
    "            if len(good_response) == 0:\n",
    "                personalities.append(response)\n",
    "            else:\n",
    "                personalities.append(good_response)"
   ]
  },
  {
   "cell_type": "code",
   "execution_count": 392,
   "id": "2c28f291",
   "metadata": {},
   "outputs": [],
   "source": [
    "personalities = list(set(personalities))"
   ]
  },
  {
   "cell_type": "code",
   "execution_count": null,
   "id": "edaa4e55",
   "metadata": {
    "scrolled": true
   },
   "outputs": [],
   "source": [
    "removes = []\n",
    "for idx, name in enumerate(personalities):\n",
    "    new_name = input(name)\n",
    "    if len(new_name) > 0:\n",
    "        if new_name == 'd':\n",
    "            removes.append(idx)\n",
    "        else:\n",
    "            personalities[idx] = new_name\n",
    "personalities = [n for i, n in enumerate(personalities) if i not in removes]"
   ]
  },
  {
   "cell_type": "code",
   "execution_count": 455,
   "id": "b87b63b6",
   "metadata": {},
   "outputs": [],
   "source": [
    "for i, p in enumerate(personalities):\n",
    "    if len(p) > 380:\n",
    "        personalities[i] = '.'.join(p.split('.')[:-1]).strip()\n",
    "        print(len(p), len(personalities[i]))"
   ]
  },
  {
   "cell_type": "code",
   "execution_count": null,
   "id": "dec46161",
   "metadata": {},
   "outputs": [],
   "source": []
  },
  {
   "cell_type": "code",
   "execution_count": 605,
   "id": "1a0d1080",
   "metadata": {},
   "outputs": [],
   "source": [
    "traits = {name: personality for name, personality in zip(names, personalities)}"
   ]
  },
  {
   "cell_type": "code",
   "execution_count": 606,
   "id": "ff7dcf3a",
   "metadata": {},
   "outputs": [],
   "source": [
    "json.dump(traits, open(\"traits.json\", \"w\"))"
   ]
  },
  {
   "cell_type": "code",
   "execution_count": null,
   "id": "6d360d0a",
   "metadata": {},
   "outputs": [],
   "source": []
  },
  {
   "cell_type": "code",
   "execution_count": 427,
   "id": "f650e9d0",
   "metadata": {},
   "outputs": [],
   "source": [
    "from wand.color import Color\n",
    "from wand.drawing import Drawing\n",
    "from wand.image import Image\n",
    "from textwrap import wrap\n",
    "\n",
    "def word_wrap(image, ctx, text, roi_width, roi_height):\n",
    "    \"\"\"Break long text to multiple lines, and reduce point size\n",
    "    until all text fits within a bounding box.\"\"\"\n",
    "    mutable_message = text\n",
    "    iteration_attempts = 100\n",
    "\n",
    "    def eval_metrics(txt):\n",
    "        \"\"\"Quick helper function to calculate width/height of text.\"\"\"\n",
    "        metrics = ctx.get_font_metrics(image, txt, True)\n",
    "        return (metrics.text_width, metrics.text_height)\n",
    "\n",
    "    def shrink_text():\n",
    "        \"\"\"Reduce point-size & restore original text\"\"\"\n",
    "        ctx.font_size = ctx.font_size - 0.75\n",
    "        mutable_message = text\n",
    "\n",
    "    while ctx.font_size > 0 and iteration_attempts:\n",
    "        iteration_attempts -= 1\n",
    "        width, height = eval_metrics(mutable_message)\n",
    "        if height > roi_height:\n",
    "            shrink_text()\n",
    "        elif width > roi_width:\n",
    "            columns = len(mutable_message)\n",
    "            while columns > 0:\n",
    "                columns -= 1\n",
    "                mutable_message = '\\n'.join(wrap(mutable_message, columns))\n",
    "                wrapped_width, _ = eval_metrics(mutable_message)\n",
    "                if wrapped_width <= roi_width:\n",
    "                    break\n",
    "            if columns < 1:\n",
    "                shrink_text()\n",
    "        else:\n",
    "            break\n",
    "    if iteration_attempts < 1:\n",
    "        raise RuntimeError(\"Unable to calculate word_wrap for \" + text)\n",
    "    return mutable_message"
   ]
  },
  {
   "cell_type": "code",
   "execution_count": 609,
   "id": "4c9e348b",
   "metadata": {
    "scrolled": false
   },
   "outputs": [],
   "source": [
    "def get_card(img_path, save_path, i, name, personality, background = '#20b2aa', W=630, H=880):\n",
    "#     name = name.upper()\n",
    "    text = personality\n",
    "\n",
    "    with Image(width=W, height=H, background=Color(background)) as image:    \n",
    "        with Drawing() as draw:\n",
    "            draw.text_alignment = 'center'\n",
    "            # Name\n",
    "#             draw.font = './Changa/Changa-VariableFont_wght.ttf'\n",
    "            draw.font = './DayPosterBlack/DAYPBL__.ttf'\n",
    "            draw.font_size = 50\n",
    "            draw.push()\n",
    "            draw.fill_color = Color('black')\n",
    "            draw.text(int(W/2), 48, name)\n",
    "            draw.pop()\n",
    "            draw.push()\n",
    "            \n",
    "#             draw.font_size = 55\n",
    "#             draw.fill_color = Color('black')\n",
    "#             draw.text(int(W/2), 48, name)\n",
    "#             draw.pop()\n",
    "#             draw.push()\n",
    "            \n",
    "            # -fill white\n",
    "            draw.font_size = 50\n",
    "            draw.fill_color = Color('#FF7F50')\n",
    "            draw.text(int(W/2) - 4, 48 -2, name)\n",
    "            draw.pop()\n",
    "            draw(image)\n",
    "\n",
    "        BOX_X_PADDING = 6\n",
    "        fg_img = Image(filename=img_path)\n",
    "        with Image(width=fg_img.width, height=int(fg_img.height/2 - 20), background=Color(background)) as description:   \n",
    "            with Drawing() as draw:\n",
    "                # Box\n",
    "                draw.fill_color = Color('#c9ffe5')\n",
    "                draw.rectangle(left=0, top=0, right=fg_img.width, bottom=fg_img.height/2)\n",
    "\n",
    "                with Drawing() as draw2:\n",
    "                    # Box\n",
    "                    draw2.fill_color = Color('white')\n",
    "                    draw2.rectangle(left=0, top=0, right=fg_img.width, bottom=fg_img.height/2)\n",
    "                    draw2.composite(operator='color_burn', left=0, top=0, width=description.width, height=description.height, image=description)\n",
    "\n",
    "                # Text\n",
    "                draw.font_size = 26\n",
    "#                 draw.text_alignment = 'left'\n",
    "                \n",
    "#                 draw.text_interline_spacing = 0\n",
    "                draw.font = './SF-Cartoonist-Hand/SF_Cartoonist_Hand.ttf'\n",
    "                mutable_message = word_wrap(description,\n",
    "                                            draw,\n",
    "                                            text,\n",
    "                                            description.width - 2*BOX_X_PADDING,\n",
    "                                            description.height)\n",
    "                \n",
    "                draw.push()\n",
    "                draw.fill_color = '#E0E094'\n",
    "                draw.stroke_width = 4\n",
    "#                 draw.stroke_color = 'black'\n",
    "                draw.pop()\n",
    "                draw.fill_color = '#004953'\n",
    "                metrics = draw.get_font_metrics(description, mutable_message, multiline=True)\n",
    "                draw.text(BOX_X_PADDING, int((description.height - metrics.text_height) /2 + 10), mutable_message)\n",
    "#                 draw.text(BOX_X_PADDING, 10, mutable_message)\n",
    "                draw(description)\n",
    "#                 fg_img.border(\"black\", 4, 4) \n",
    "#                 description.border(\"#367588\", 4, 4) \n",
    "\n",
    "                with Image(width=fg_img.width+4, height=fg_img.height + description.height + 10 + 2) as output:\n",
    "                    with Image(width=fg_img.width, height=fg_img.height, background='black') as tmp:\n",
    "                        output.composite(image=tmp, left=4, top=2)\n",
    "                    output.composite(image=fg_img, left=0, top=0)\n",
    "                    \n",
    "                    with Image(width=description.width, height=description.height, background='black') as tmp:\n",
    "                        output.composite(image=tmp, left=4, top=fg_img.height + 10 + 2)\n",
    "                    output.composite(image=description, left=0, top=fg_img.height + 10)\n",
    "                    fg_img = output.clone()            \n",
    "\n",
    "#         fg_img.border(\"white\", 4, 4)\n",
    "        image.composite(fg_img, gravity='center')\n",
    "        image.border(\"black\", 2, 2)\n",
    "        image.border(\"#D9B382\", 10, 10)\n",
    "#         image.resize(int(image.width*0.5), int(image.height*0.5))\n",
    "        out = save_path+str(i)+\".png\"\n",
    "        image.save(filename=out)\n",
    "        return out"
   ]
  },
  {
   "cell_type": "code",
   "execution_count": null,
   "id": "d58699e7",
   "metadata": {
    "scrolled": true
   },
   "outputs": [],
   "source": [
    "import os, glob, random\n",
    "out_path = \"C:/Users/Mcian/OneDrive/Desktop/Finalized_NFTs/\"\n",
    "[os.remove(p) for p in glob.glob(os.path.join(out_path, '*.png'))]\n",
    "[os.remove(p) for p in glob.glob(os.path.join(\"C:/Users/Mcian/OneDrive/Desktop/Finalized_NFTs_metadata/\", '*.png'))]\n",
    "files = glob.glob(os.path.join(\"C:/Users/Mcian/OneDrive/Desktop/Trader_NFTS/\", '*.png'))\n",
    "first = files[0]\n",
    "files = files[1:]\n",
    "random.shuffle(files)\n",
    "files = [first] + files"
   ]
  },
  {
   "cell_type": "code",
   "execution_count": 615,
   "id": "8956fae9",
   "metadata": {},
   "outputs": [],
   "source": [
    "traits = json.load(open(\"traits.json\"))"
   ]
  },
  {
   "cell_type": "code",
   "execution_count": 619,
   "id": "cd29575f",
   "metadata": {},
   "outputs": [],
   "source": [
    "names, personalities = list(traits.keys()), list(traits.values())"
   ]
  },
  {
   "cell_type": "code",
   "execution_count": 620,
   "id": "e62a42fb",
   "metadata": {
    "scrolled": true
   },
   "outputs": [
    {
     "name": "stdout",
     "output_type": "stream",
     "text": [
      "C:/Users/Mcian/OneDrive/Desktop/Trader_NFTS\\0.png\n",
      "C:/Users/Mcian/OneDrive/Desktop/Trader_NFTS\\Blue bird_seed4081_guidance10.png\n",
      "C:/Users/Mcian/OneDrive/Desktop/Trader_NFTS\\Rabbit_seed4069_guidance4.png\n",
      "C:/Users/Mcian/OneDrive/Desktop/Trader_NFTS\\Red panda_seed678_guidance12.png\n",
      "C:/Users/Mcian/OneDrive/Desktop/Trader_NFTS\\Walrus_seed9301_guidance10.png\n",
      "C:/Users/Mcian/OneDrive/Desktop/Trader_NFTS\\Arctic Wolf_seed3025_guidance15.png\n",
      "C:/Users/Mcian/OneDrive/Desktop/Trader_NFTS\\Giant panda_seed7189_guidance7.png\n",
      "C:/Users/Mcian/OneDrive/Desktop/Trader_NFTS\\Beaver_seed618_guidance15.png\n",
      "C:/Users/Mcian/OneDrive/Desktop/Trader_NFTS\\Mastodon_seed8196_guidance2.png\n",
      "C:/Users/Mcian/OneDrive/Desktop/Trader_NFTS\\Galliform_seed562_guidance15.png\n",
      "C:/Users/Mcian/OneDrive/Desktop/Trader_NFTS\\Badger_seed9255_guidance18.png\n",
      "C:/Users/Mcian/OneDrive/Desktop/Trader_NFTS\\Blue whale_seed616_guidance9.png\n",
      "C:/Users/Mcian/OneDrive/Desktop/Trader_NFTS\\Canid_seed9011_guidance5.png\n",
      "C:/Users/Mcian/OneDrive/Desktop/Trader_NFTS\\Ape_seed6646_guidance11.png\n",
      "C:/Users/Mcian/OneDrive/Desktop/Trader_NFTS\\Hippopotamus_seed1387_guidance16.png\n",
      "C:/Users/Mcian/OneDrive/Desktop/Trader_NFTS\\Roadrunner_seed6476_guidance13.png\n",
      "C:/Users/Mcian/OneDrive/Desktop/Trader_NFTS\\Puffin_seed9872_guidance8.png\n",
      "C:/Users/Mcian/OneDrive/Desktop/Trader_NFTS\\Llama_seed7308_guidance9.png\n",
      "C:/Users/Mcian/OneDrive/Desktop/Trader_NFTS\\Felidae_seed8782_guidance5.png\n",
      "C:/Users/Mcian/OneDrive/Desktop/Trader_NFTS\\Tortoise_seed275_guidance2.png\n",
      "C:/Users/Mcian/OneDrive/Desktop/Trader_NFTS\\Lizard_seed5377_guidance11.png\n",
      "C:/Users/Mcian/OneDrive/Desktop/Trader_NFTS\\Orangutan_seed9582_guidance14.png\n",
      "C:/Users/Mcian/OneDrive/Desktop/Trader_NFTS\\list_seed9759_guidance16.png\n",
      "C:/Users/Mcian/OneDrive/Desktop/Trader_NFTS\\Loon_seed1700_guidance10.png\n",
      "C:/Users/Mcian/OneDrive/Desktop/Trader_NFTS\\Macaw_seed9136_guidance12.png\n",
      "C:/Users/Mcian/OneDrive/Desktop/Trader_NFTS\\Cephalopod_seed5889_guidance0.png\n",
      "C:/Users/Mcian/OneDrive/Desktop/Trader_NFTS\\Jay_seed8451_guidance3.png\n",
      "C:/Users/Mcian/OneDrive/Desktop/Trader_NFTS\\Marmoset_seed7271_guidance0.png\n",
      "C:/Users/Mcian/OneDrive/Desktop/Trader_NFTS\\Bug_seed1778_guidance6.png\n",
      "C:/Users/Mcian/OneDrive/Desktop/Trader_NFTS\\Domestic silver fox_seed5197_guidance12.png\n",
      "C:/Users/Mcian/OneDrive/Desktop/Trader_NFTS\\Elephant_seed529_guidance20.png\n",
      "C:/Users/Mcian/OneDrive/Desktop/Trader_NFTS\\Pony_seed538_guidance20.png\n",
      "C:/Users/Mcian/OneDrive/Desktop/Trader_NFTS\\Ass (donkey)_seed9178_guidance9.png\n",
      "C:/Users/Mcian/OneDrive/Desktop/Trader_NFTS\\Owl_seed2899_guidance14.png\n",
      "C:/Users/Mcian/OneDrive/Desktop/Trader_NFTS\\Domestic silver fox_seed7195_guidance16.png\n",
      "C:/Users/Mcian/OneDrive/Desktop/Trader_NFTS\\Dog_seed5959_guidance1.png\n",
      "C:/Users/Mcian/OneDrive/Desktop/Trader_NFTS\\Saber-toothed cat_seed3666_guidance2.png\n",
      "C:/Users/Mcian/OneDrive/Desktop/Trader_NFTS\\Duck breeds_seed5590_guidance1.png\n",
      "C:/Users/Mcian/OneDrive/Desktop/Trader_NFTS\\Beetle_seed3785_guidance11.png\n",
      "C:/Users/Mcian/OneDrive/Desktop/Trader_NFTS\\Skunk_seed5965_guidance2.png\n",
      "C:/Users/Mcian/OneDrive/Desktop/Trader_NFTS\\Hoverfly_seed6138_guidance13.png\n",
      "C:/Users/Mcian/OneDrive/Desktop/Trader_NFTS\\Domestic rabbit_seed9704_guidance10.png\n",
      "C:/Users/Mcian/OneDrive/Desktop/Trader_NFTS\\Aardvark_seed5139_guidance17.png\n",
      "C:/Users/Mcian/OneDrive/Desktop/Trader_NFTS\\Sugar glider_seed6363_guidance7.png\n",
      "C:/Users/Mcian/OneDrive/Desktop/Trader_NFTS\\Mastodon_seed2264_guidance12.png\n",
      "C:/Users/Mcian/OneDrive/Desktop/Trader_NFTS\\Fancy rat_seed4210_guidance7.png\n",
      "C:/Users/Mcian/OneDrive/Desktop/Trader_NFTS\\4.png\n",
      "C:/Users/Mcian/OneDrive/Desktop/Trader_NFTS\\Octopus_seed2642_guidance7.png\n",
      "C:/Users/Mcian/OneDrive/Desktop/Trader_NFTS\\Jellyfish_seed4553_guidance12.png\n",
      "C:/Users/Mcian/OneDrive/Desktop/Trader_NFTS\\Ant_seed7134_guidance7.png\n",
      "C:/Users/Mcian/OneDrive/Desktop/Trader_NFTS\\Dormouse_seed2654_guidance3.png\n",
      "C:/Users/Mcian/OneDrive/Desktop/Trader_NFTS\\Seahorse_seed3276_guidance4.png\n",
      "C:/Users/Mcian/OneDrive/Desktop/Trader_NFTS\\Coyote_seed261_guidance6.png\n",
      "C:/Users/Mcian/OneDrive/Desktop/Trader_NFTS\\African leopard_seed9691_guidance12.png\n",
      "C:/Users/Mcian/OneDrive/Desktop/Trader_NFTS\\Vampire squid_seed4543_guidance5.png\n",
      "C:/Users/Mcian/OneDrive/Desktop/Trader_NFTS\\Beaver_seed8744_guidance13.png\n",
      "C:/Users/Mcian/OneDrive/Desktop/Trader_NFTS\\Amphibian_seed8227_guidance6.png\n",
      "C:/Users/Mcian/OneDrive/Desktop/Trader_NFTS\\Animals by size_seed7644_guidance17.png\n",
      "C:/Users/Mcian/OneDrive/Desktop/Trader_NFTS\\Lungfish_seed3306_guidance6.png\n",
      "C:/Users/Mcian/OneDrive/Desktop/Trader_NFTS\\Tiger_seed576_guidance11.png\n",
      "C:/Users/Mcian/OneDrive/Desktop/Trader_NFTS\\Cat_seed1495_guidance10.png\n",
      "C:/Users/Mcian/OneDrive/Desktop/Trader_NFTS\\Marmoset_seed9603_guidance7.png\n",
      "C:/Users/Mcian/OneDrive/Desktop/Trader_NFTS\\Dragon_seed1745_guidance0.png\n",
      "C:/Users/Mcian/OneDrive/Desktop/Trader_NFTS\\Chipmunk_seed7957_guidance4.png\n",
      "C:/Users/Mcian/OneDrive/Desktop/Trader_NFTS\\Basilisk_seed6358_guidance13.png\n",
      "C:/Users/Mcian/OneDrive/Desktop/Trader_NFTS\\Fancy mouse_seed4789_guidance11.png\n",
      "C:/Users/Mcian/OneDrive/Desktop/Trader_NFTS\\Orangutan_seed8535_guidance2.png\n",
      "C:/Users/Mcian/OneDrive/Desktop/Trader_NFTS\\Antlion_seed5627_guidance9.png\n",
      "C:/Users/Mcian/OneDrive/Desktop/Trader_NFTS\\Krill_seed4626_guidance16.png\n",
      "C:/Users/Mcian/OneDrive/Desktop/Trader_NFTS\\Amphibian_seed224_guidance7.png\n",
      "C:/Users/Mcian/OneDrive/Desktop/Trader_NFTS\\2.png\n",
      "C:/Users/Mcian/OneDrive/Desktop/Trader_NFTS\\Antlion_seed6720_guidance20.png\n",
      "C:/Users/Mcian/OneDrive/Desktop/Trader_NFTS\\Tarantula_seed2945_guidance19.png\n",
      "C:/Users/Mcian/OneDrive/Desktop/Trader_NFTS\\Manatee_seed9437_guidance0.png\n",
      "C:/Users/Mcian/OneDrive/Desktop/Trader_NFTS\\Cephalopod_seed2225_guidance14.png\n",
      "C:/Users/Mcian/OneDrive/Desktop/Trader_NFTS\\Anaconda_seed5732_guidance0.png\n",
      "C:/Users/Mcian/OneDrive/Desktop/Trader_NFTS\\Mammal_seed506_guidance19.png\n",
      "C:/Users/Mcian/OneDrive/Desktop/Trader_NFTS\\Saber-toothed cat_seed2937_guidance12.png\n",
      "C:/Users/Mcian/OneDrive/Desktop/Trader_NFTS\\Porcupine_seed5113_guidance6.png\n",
      "C:/Users/Mcian/OneDrive/Desktop/Trader_NFTS\\Pig_seed2410_guidance4.png\n",
      "C:/Users/Mcian/OneDrive/Desktop/Trader_NFTS\\Fancy rat varieties_seed7408_guidance11.png\n",
      "C:/Users/Mcian/OneDrive/Desktop/Trader_NFTS\\Boa_seed7952_guidance17.png\n",
      "C:/Users/Mcian/OneDrive/Desktop/Trader_NFTS\\Pike_seed7237_guidance13.png\n",
      "C:/Users/Mcian/OneDrive/Desktop/Trader_NFTS\\Bandicoot_seed7505_guidance17.png\n",
      "C:/Users/Mcian/OneDrive/Desktop/Trader_NFTS\\Horse_seed398_guidance17.png\n",
      "C:/Users/Mcian/OneDrive/Desktop/Trader_NFTS\\Portuguese man o' war_seed6520_guidance12.png\n",
      "C:/Users/Mcian/OneDrive/Desktop/Trader_NFTS\\Siamese fighting fish_seed7542_guidance4.png\n",
      "C:/Users/Mcian/OneDrive/Desktop/Trader_NFTS\\Mongoose_seed1921_guidance8.png\n",
      "C:/Users/Mcian/OneDrive/Desktop/Trader_NFTS\\Baboon_seed5948_guidance1.png\n",
      "C:/Users/Mcian/OneDrive/Desktop/Trader_NFTS\\Hornet_seed1521_guidance19.png\n",
      "C:/Users/Mcian/OneDrive/Desktop/Trader_NFTS\\Ant_seed185_guidance17.png\n",
      "C:/Users/Mcian/OneDrive/Desktop/Trader_NFTS\\Otter_seed3015_guidance6.png\n",
      "C:/Users/Mcian/OneDrive/Desktop/Trader_NFTS\\Salamander_seed1596_guidance12.png\n",
      "C:/Users/Mcian/OneDrive/Desktop/Trader_NFTS\\Ape_seed9735_guidance8.png\n",
      "C:/Users/Mcian/OneDrive/Desktop/Trader_NFTS\\Bear_seed1824_guidance1.png\n",
      "C:/Users/Mcian/OneDrive/Desktop/Trader_NFTS\\Ox_seed1569_guidance13.png\n",
      "C:/Users/Mcian/OneDrive/Desktop/Trader_NFTS\\Earthworm_seed9202_guidance8.png\n",
      "C:/Users/Mcian/OneDrive/Desktop/Trader_NFTS\\Mandrill_seed5570_guidance12.png\n",
      "C:/Users/Mcian/OneDrive/Desktop/Trader_NFTS\\Asp_seed3404_guidance20.png\n",
      "C:/Users/Mcian/OneDrive/Desktop/Trader_NFTS\\Amphibian_seed2595_guidance18.png\n",
      "C:/Users/Mcian/OneDrive/Desktop/Trader_NFTS\\Bat_seed9836_guidance7.png\n",
      "C:/Users/Mcian/OneDrive/Desktop/Trader_NFTS\\Felidae_seed2518_guidance1.png\n",
      "C:/Users/Mcian/OneDrive/Desktop/Trader_NFTS\\Baboon_seed81_guidance15.png\n",
      "C:/Users/Mcian/OneDrive/Desktop/Trader_NFTS\\Komodo dragon_seed3460_guidance13.png\n"
     ]
    }
   ],
   "source": [
    "for idx, filename in enumerate(files):\n",
    "    get_card(filename, out_path, idx, names[idx], personalities[idx])\n",
    "    print(filename)"
   ]
  },
  {
   "cell_type": "code",
   "execution_count": 621,
   "id": "ebfa9ee6",
   "metadata": {},
   "outputs": [],
   "source": [
    "import json\n",
    "for idx, filename in enumerate(glob.glob(os.path.join(\"C:/Users/Mcian/OneDrive/Desktop/Finalized_NFTs/\", '*.png'))):\n",
    "    metadata = {}\n",
    "    metadata['name'] = names[idx]\n",
    "    metadata['description'] = personalities[idx]\n",
    "    metadata['image'] = f\"ipfs://bafybeid6nfss3k5dwcfvo2x5dzfug6d3lszgm2vaasaoobtd2wulpxrjkm/{idx}.png\"\n",
    "    json.dump(metadata, open(f\"C:/Users/Mcian/OneDrive/Desktop/Finalized_NFTs_metadata/{idx}.json\", \"w\"))"
   ]
  },
  {
   "cell_type": "code",
   "execution_count": 661,
   "id": "90cfe4db",
   "metadata": {
    "scrolled": true
   },
   "outputs": [],
   "source": [
    "out_files = glob.glob(os.path.join(out_path, '*.png'))\n",
    "img = Image(filename=out_files[0])\n",
    "percentage = 0.5\n",
    "img.resize(int(img.width*percentage), int(img.height*percentage))\n",
    "with Image(width=img.width*13, height=img.height*8) as collage:\n",
    "    for i, f in enumerate(out_files):\n",
    "        print(i)\n",
    "        img = Image(filename=f)\n",
    "        img.resize(int(img.width*percentage), int(img.height*percentage))\n",
    "        collage.composite(image=img, left=img.width*(i%13), top=img.height*(i//13))\n",
    "#         display(collage)\n",
    "        collage.save(filename=\"collage.png\")"
   ]
  },
  {
   "cell_type": "code",
   "execution_count": null,
   "id": "fd066bf1",
   "metadata": {},
   "outputs": [],
   "source": []
  }
 ],
 "metadata": {
  "kernelspec": {
   "display_name": "Python 3 (ipykernel)",
   "language": "python",
   "name": "python3"
  },
  "language_info": {
   "codemirror_mode": {
    "name": "ipython",
    "version": 3
   },
   "file_extension": ".py",
   "mimetype": "text/x-python",
   "name": "python",
   "nbconvert_exporter": "python",
   "pygments_lexer": "ipython3",
   "version": "3.9.12"
  }
 },
 "nbformat": 4,
 "nbformat_minor": 5
}
